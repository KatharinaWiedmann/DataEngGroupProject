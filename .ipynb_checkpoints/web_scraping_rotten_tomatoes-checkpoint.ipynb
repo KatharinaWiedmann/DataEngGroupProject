{
 "cells": [
  {
   "cell_type": "code",
   "execution_count": 1,
   "metadata": {},
   "outputs": [],
   "source": [
    "import requests\n",
    "from bs4 import BeautifulSoup\n",
    "from csv import writer"
   ]
  },
  {
   "cell_type": "code",
   "execution_count": 2,
   "metadata": {},
   "outputs": [],
   "source": [
    "response = requests.get('https://www.rottentomatoes.com/m/onward/')\n",
    "soup = BeautifulSoup(response.text, 'html.parser')"
   ]
  },
  {
   "cell_type": "code",
   "execution_count": 3,
   "metadata": {},
   "outputs": [],
   "source": [
    "soup = BeautifulSoup(response.text, 'html.parser')\n",
    "\n",
    "test = soup.find_all('blockquote')\n",
    "reviews = []\n",
    "for i in test:\n",
    "    j = str(i.contents[1])\n",
    "    j = j.replace(\"<p>\\n                    \\n                        \",\"\")\n",
    "    j = j.replace(\"\\n                    \\n                </p>\",\"\")\n",
    "    reviews = reviews + [j]"
   ]
  },
  {
   "cell_type": "code",
   "execution_count": 4,
   "metadata": {},
   "outputs": [
    {
     "name": "stdout",
     "output_type": "stream",
     "text": [
      "Not up to Pixar's usual high standards, but you'll laugh and cry with this frisky animated tale of two elf brothers (Tom Holland and Chris Pratt, both terrific) who bond over trying to bring their late dad back to life for a single day.\n",
      "\n",
      "Shrek did it better.\n",
      "\n",
      "This is a picture whose subject, loudly and frequently proclaimed, is magic. But there is precious little of the genuine article to be found in it.\n",
      "\n",
      "Onward begins with an intriguing premise but doesn't come close to fully fleshing out the possibilities.\n",
      "\n",
      "There's a little inspiration missing in its bog-standard hero's journey -- even if the bog is a magical one.\n",
      "\n",
      "Despite its title, Onward is a regressive film, sometimes painfully so.\n",
      "\n",
      "Onward is funny, sweet, and endearing.\n",
      "\n",
      "Onward is another sentimental film from Pixar, and I was tearing up in the third act.\n",
      "\n",
      "One walks away from Onward unexpectedly reflecting on the cruel nature of death and those who help us move pass it.\n",
      "\n",
      "Onward is not a bad movie. It has bright moments... [But] Onward is conventional, probably the worst that can be said of a Pixar movie. [Full review in Spanish]\n",
      "\n",
      "Onward teaches children to cope with death in a creative and heartfelt way. The film treads into somber territory, but dazzles with its magical plot.\n",
      "\n",
      "A film about doing whatever it takes to spend a little more time with a loved one you've lost and missed? That got me. Hard. It's very funny, but the emotions set it apart.\n",
      "\n"
     ]
    }
   ],
   "source": [
    "for i in reviews:\n",
    "    print(i+\"\\n\")"
   ]
  }
 ],
 "metadata": {
  "kernelspec": {
   "display_name": "Python [default]",
   "language": "python",
   "name": "python3"
  },
  "language_info": {
   "codemirror_mode": {
    "name": "ipython",
    "version": 3
   },
   "file_extension": ".py",
   "mimetype": "text/x-python",
   "name": "python",
   "nbconvert_exporter": "python",
   "pygments_lexer": "ipython3",
   "version": "3.6.10"
  }
 },
 "nbformat": 4,
 "nbformat_minor": 2
}
